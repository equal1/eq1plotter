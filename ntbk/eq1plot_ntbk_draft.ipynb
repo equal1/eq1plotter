{
 "cells": [
  {
   "cell_type": "markdown",
   "metadata": {},
   "source": [
    "# Plotter\n",
    "<p style=\"flushleft\"><b><i>\n",
    "eq1plotter v0.0<br />\n",
    "Equal1 Labs Inc (Dublin, Ireland)<br />\n",
    "M. Asker, D. Andrade-Miceli<br />\n",
    "2020<br />\n",
    "</b></i></p>"
   ]
  },
  {
   "cell_type": "markdown",
   "metadata": {},
   "source": [
    "# Example\n",
    "<p style=\"justify\">Here a first example that displays a widget, a table and control buttons to plot it, rearrange it, etc. The example was taken from <b><a href=\"https://gist.github.com/gugat/7cf57eb628f3bb0a3d54b3f8d0023b63\">here</a></b> and here there were introduced the minimum modifications required to run it on the OS/Python version installed in the test environment (own laptop running Windows 10 and Python 3+ installed from Anaconda).</p> "
   ]
  },
  {
   "cell_type": "code",
   "execution_count": 4,
   "metadata": {},
   "outputs": [],
   "source": [
    "# Taken from https://github.com/dmnfarrell/pandastable/wiki/Code-Examples\n",
    "# https://gist.github.com/gugat/7cf57eb628f3bb0a3d54b3f8d0023b63\n",
    "from tkinter import *\n",
    "from pandastable import Table, TableModel\n",
    "\n",
    "class TestApp(Frame):\n",
    "    \"\"\"Basic test frame for the table\"\"\"\n",
    "    def __init__(self, parent=None):\n",
    "        self.parent = parent\n",
    "        Frame.__init__(self)\n",
    "        self.main = self.master\n",
    "        self.main.geometry('600x400+200+100')\n",
    "        self.main.title('Table app')\n",
    "        f = Frame(self.main)\n",
    "        f.pack(fill=BOTH,expand=1)\n",
    "        df = TableModel.getSampleData()\n",
    "        self.table = pt = Table(f, dataframe=df,\n",
    "                                showtoolbar=True, showstatusbar=True)\n",
    "        pt.show()\n",
    "        return\n",
    "\n",
    "app = TestApp()\n",
    "#launch the app\n",
    "app.mainloop()"
   ]
  },
  {
   "cell_type": "code",
   "execution_count": 5,
   "metadata": {},
   "outputs": [
    {
     "name": "stdout",
     "output_type": "stream",
     "text": [
      "\n",
      "        ***************************\n",
      "        eq1plotter v0.0\n",
      "        Equal1 Labs Inc (Dublin, Ireland)\n",
      "        M. Asker, D. Andrade-Miceli\n",
      "        2020\n",
      "        ***************************\n",
      "        \n"
     ]
    }
   ],
   "source": [
    "import numpy as np\n",
    "import pandas as pd\n",
    "from pandastable import Table, TableModel\n",
    "import pyarrow as pa\n",
    "import pyarrow.parquet as pq\n",
    "import matplotlib as mpl\n",
    "import matplotlib.pyplot as plt\n",
    "import tkinter as tk\n",
    "import tkinter.tix as tix\n",
    "import re, os, sys, csv, getopt, math, csv, types, gc\n",
    "import glob, time, shutil, getpass, subprocess, traceback\n",
    "from datetime import datetime\n",
    "from pprint import pprint\n",
    "\n",
    "print('''\n",
    "        ***************************\n",
    "        eq1plotter v0.0\n",
    "        Equal1 Labs Inc (Dublin, Ireland)\n",
    "        M. Asker, D. Andrade-Miceli\n",
    "        2020\n",
    "        ***************************\n",
    "        ''')"
   ]
  },
  {
   "cell_type": "code",
   "execution_count": null,
   "metadata": {},
   "outputs": [],
   "source": []
  }
 ],
 "metadata": {
  "kernelspec": {
   "display_name": "Python 3",
   "language": "python",
   "name": "python3"
  },
  "language_info": {
   "codemirror_mode": {
    "name": "ipython",
    "version": 3
   },
   "file_extension": ".py",
   "mimetype": "text/x-python",
   "name": "python",
   "nbconvert_exporter": "python",
   "pygments_lexer": "ipython3",
   "version": "3.6.10"
  }
 },
 "nbformat": 4,
 "nbformat_minor": 4
}
